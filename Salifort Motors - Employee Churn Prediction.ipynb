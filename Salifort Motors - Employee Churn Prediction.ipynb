{
 "cells": [
  {
   "cell_type": "markdown",
   "metadata": {
    "id": "ysS5rgTMWpwL"
   },
   "source": [
    "# **Capstone Project: Providing data-driven suggestions for HR**"
   ]
  },
  {
   "cell_type": "markdown",
   "metadata": {
    "id": "gLEEr6peWcF7"
   },
   "source": [
    "### Objective\n",
    "\n",
    "The HR team at Salifort Motors is keen on enhancing employee satisfaction within the company. They've gathered data from the employees, but now they're unsure about how to use it. They've reached out to me, a data analytics professional, to provide insights based on the collected data. Specifically, they want to know what factors might lead an employee to leave the company.\n",
    "\n",
    "In this project, my main objectives are to analyze the HR data and develop a model that can predict whether an employee is likely to leave the company. If we can identify employees who are likely to quit, we may uncover the reasons behind their departure. This is valuable because the process of finding, interviewing, and hiring new employees is both time-consuming and costly. By improving employee retention, we aim to benefit the company in terms of time and resources."
   ]
  },
  {
   "cell_type": "markdown",
   "metadata": {
    "id": "lnRdR6eacUkK"
   },
   "source": [
    "### Data: [Kaggle](https://www.kaggle.com/datasets/mfaisalqureshi/hr-analytics-and-job-prediction?select=HR_comma_sep.csv)\n",
    "\n",
    "Variable  |Description |\n",
    "-----|-----|\n",
    "satisfaction_level|Employee-reported job satisfaction level [0&ndash;1]|\n",
    "last_evaluation|Score of employee's last performance review [0&ndash;1]|\n",
    "number_project|Number of projects employee contributes to|\n",
    "average_monthly_hours|Average number of hours employee worked per month|\n",
    "time_spend_company|How long the employee has been with the company (years)\n",
    "Work_accident|Whether or not the employee experienced an accident while at work\n",
    "left|Whether or not the employee left the company\n",
    "promotion_last_5years|Whether or not the employee was promoted in the last 5 years\n",
    "Department|The employee's department\n",
    "salary|The employee's salary (U.S. dollars)"
   ]
  },
  {
   "cell_type": "code",
   "execution_count": 1,
   "metadata": {
    "id": "hVWGpX9As4e1"
   },
   "outputs": [],
   "source": [
    "import numpy as np\n",
    "import pandas as pd\n",
    "\n",
    "# Data Visualization Libraries\n",
    "import matplotlib.pyplot as plt\n",
    "import seaborn as sns\n",
    "\n",
    "# Statistical Libraries\n",
    "import scipy.stats as stats\n",
    "\n",
    "# Statsmodels for statistical modeling\n",
    "from statsmodels.stats.outliers_influence import variance_inflation_factor\n",
    "\n",
    "# Scikit-learn for machine learning tasks\n",
    "from sklearn.utils import resample\n",
    "from sklearn.preprocessing import OneHotEncoder\n",
    "from sklearn.pipeline import make_pipeline\n",
    "from sklearn.model_selection import train_test_split, GridSearchCV\n",
    "from sklearn.linear_model import LogisticRegression\n",
    "from sklearn.metrics import confusion_matrix, ConfusionMatrixDisplay, classification_report \n",
    "from sklearn.metrics import accuracy_score, precision_score, recall_score, f1_score\n",
    "from sklearn.metrics import roc_auc_score, roc_curve, auc"
   ]
  },
  {
   "cell_type": "markdown",
   "metadata": {
    "id": "3LF6h1v9FYz2"
   },
   "source": [
    "## Initial EDA"
   ]
  },
  {
   "cell_type": "code",
   "execution_count": 2,
   "metadata": {
    "id": "Bs0cJR5BDPgQ"
   },
   "outputs": [
    {
     "data": {
      "text/html": [
       "<div>\n",
       "<style scoped>\n",
       "    .dataframe tbody tr th:only-of-type {\n",
       "        vertical-align: middle;\n",
       "    }\n",
       "\n",
       "    .dataframe tbody tr th {\n",
       "        vertical-align: top;\n",
       "    }\n",
       "\n",
       "    .dataframe thead th {\n",
       "        text-align: right;\n",
       "    }\n",
       "</style>\n",
       "<table border=\"1\" class=\"dataframe\">\n",
       "  <thead>\n",
       "    <tr style=\"text-align: right;\">\n",
       "      <th></th>\n",
       "      <th>satisfaction_level</th>\n",
       "      <th>last_evaluation</th>\n",
       "      <th>number_project</th>\n",
       "      <th>average_montly_hours</th>\n",
       "      <th>time_spend_company</th>\n",
       "      <th>Work_accident</th>\n",
       "      <th>left</th>\n",
       "      <th>promotion_last_5years</th>\n",
       "      <th>Department</th>\n",
       "      <th>salary</th>\n",
       "    </tr>\n",
       "  </thead>\n",
       "  <tbody>\n",
       "    <tr>\n",
       "      <th>0</th>\n",
       "      <td>0.38</td>\n",
       "      <td>0.53</td>\n",
       "      <td>2</td>\n",
       "      <td>157</td>\n",
       "      <td>3</td>\n",
       "      <td>0</td>\n",
       "      <td>1</td>\n",
       "      <td>0</td>\n",
       "      <td>sales</td>\n",
       "      <td>low</td>\n",
       "    </tr>\n",
       "    <tr>\n",
       "      <th>1</th>\n",
       "      <td>0.80</td>\n",
       "      <td>0.86</td>\n",
       "      <td>5</td>\n",
       "      <td>262</td>\n",
       "      <td>6</td>\n",
       "      <td>0</td>\n",
       "      <td>1</td>\n",
       "      <td>0</td>\n",
       "      <td>sales</td>\n",
       "      <td>medium</td>\n",
       "    </tr>\n",
       "    <tr>\n",
       "      <th>2</th>\n",
       "      <td>0.11</td>\n",
       "      <td>0.88</td>\n",
       "      <td>7</td>\n",
       "      <td>272</td>\n",
       "      <td>4</td>\n",
       "      <td>0</td>\n",
       "      <td>1</td>\n",
       "      <td>0</td>\n",
       "      <td>sales</td>\n",
       "      <td>medium</td>\n",
       "    </tr>\n",
       "    <tr>\n",
       "      <th>3</th>\n",
       "      <td>0.72</td>\n",
       "      <td>0.87</td>\n",
       "      <td>5</td>\n",
       "      <td>223</td>\n",
       "      <td>5</td>\n",
       "      <td>0</td>\n",
       "      <td>1</td>\n",
       "      <td>0</td>\n",
       "      <td>sales</td>\n",
       "      <td>low</td>\n",
       "    </tr>\n",
       "    <tr>\n",
       "      <th>4</th>\n",
       "      <td>0.37</td>\n",
       "      <td>0.52</td>\n",
       "      <td>2</td>\n",
       "      <td>159</td>\n",
       "      <td>3</td>\n",
       "      <td>0</td>\n",
       "      <td>1</td>\n",
       "      <td>0</td>\n",
       "      <td>sales</td>\n",
       "      <td>low</td>\n",
       "    </tr>\n",
       "  </tbody>\n",
       "</table>\n",
       "</div>"
      ],
      "text/plain": [
       "   satisfaction_level  last_evaluation  number_project  average_montly_hours  \\\n",
       "0                0.38             0.53               2                   157   \n",
       "1                0.80             0.86               5                   262   \n",
       "2                0.11             0.88               7                   272   \n",
       "3                0.72             0.87               5                   223   \n",
       "4                0.37             0.52               2                   159   \n",
       "\n",
       "   time_spend_company  Work_accident  left  promotion_last_5years Department  \\\n",
       "0                   3              0     1                      0      sales   \n",
       "1                   6              0     1                      0      sales   \n",
       "2                   4              0     1                      0      sales   \n",
       "3                   5              0     1                      0      sales   \n",
       "4                   3              0     1                      0      sales   \n",
       "\n",
       "   salary  \n",
       "0     low  \n",
       "1  medium  \n",
       "2  medium  \n",
       "3     low  \n",
       "4     low  "
      ]
     },
     "execution_count": 2,
     "metadata": {},
     "output_type": "execute_result"
    }
   ],
   "source": [
    "# Loading dataset into a dataframe\n",
    "df0 = pd.read_csv(\"HR_capstone_dataset.csv\")\n",
    "\n",
    "# Displaying the first few rows of the dataframe\n",
    "df0.head()"
   ]
  },
  {
   "cell_type": "code",
   "execution_count": 3,
   "metadata": {
    "id": "6XbfdPoKurMf"
   },
   "outputs": [
    {
     "name": "stdout",
     "output_type": "stream",
     "text": [
      "<class 'pandas.core.frame.DataFrame'>\n",
      "RangeIndex: 14999 entries, 0 to 14998\n",
      "Data columns (total 10 columns):\n",
      " #   Column                 Non-Null Count  Dtype  \n",
      "---  ------                 --------------  -----  \n",
      " 0   satisfaction_level     14999 non-null  float64\n",
      " 1   last_evaluation        14999 non-null  float64\n",
      " 2   number_project         14999 non-null  int64  \n",
      " 3   average_montly_hours   14999 non-null  int64  \n",
      " 4   time_spend_company     14999 non-null  int64  \n",
      " 5   Work_accident          14999 non-null  int64  \n",
      " 6   left                   14999 non-null  int64  \n",
      " 7   promotion_last_5years  14999 non-null  int64  \n",
      " 8   Department             14999 non-null  object \n",
      " 9   salary                 14999 non-null  object \n",
      "dtypes: float64(2), int64(6), object(2)\n",
      "memory usage: 1.1+ MB\n"
     ]
    }
   ],
   "source": [
    "# Gathering basic information about the data\n",
    "df0.info()"
   ]
  },
  {
   "cell_type": "code",
   "execution_count": 4,
   "metadata": {},
   "outputs": [
    {
     "data": {
      "text/plain": [
       "satisfaction_level       float64\n",
       "last_evaluation          float64\n",
       "number_project             int64\n",
       "average_montly_hours       int64\n",
       "time_spend_company         int64\n",
       "Work_accident              int64\n",
       "left                       int64\n",
       "promotion_last_5years      int64\n",
       "Department                object\n",
       "salary                    object\n",
       "dtype: object"
      ]
     },
     "execution_count": 4,
     "metadata": {},
     "output_type": "execute_result"
    }
   ],
   "source": [
    "# Displaying the data types of each column in the dataframe\n",
    "df0.dtypes"
   ]
  },
  {
   "cell_type": "code",
   "execution_count": 5,
   "metadata": {
    "id": "_5VRL-kzE8y1"
   },
   "outputs": [
    {
     "data": {
      "text/html": [
       "<div>\n",
       "<style scoped>\n",
       "    .dataframe tbody tr th:only-of-type {\n",
       "        vertical-align: middle;\n",
       "    }\n",
       "\n",
       "    .dataframe tbody tr th {\n",
       "        vertical-align: top;\n",
       "    }\n",
       "\n",
       "    .dataframe thead th {\n",
       "        text-align: right;\n",
       "    }\n",
       "</style>\n",
       "<table border=\"1\" class=\"dataframe\">\n",
       "  <thead>\n",
       "    <tr style=\"text-align: right;\">\n",
       "      <th></th>\n",
       "      <th>satisfaction_level</th>\n",
       "      <th>last_evaluation</th>\n",
       "      <th>number_project</th>\n",
       "      <th>average_montly_hours</th>\n",
       "      <th>time_spend_company</th>\n",
       "      <th>Work_accident</th>\n",
       "      <th>left</th>\n",
       "      <th>promotion_last_5years</th>\n",
       "    </tr>\n",
       "  </thead>\n",
       "  <tbody>\n",
       "    <tr>\n",
       "      <th>count</th>\n",
       "      <td>14999.000000</td>\n",
       "      <td>14999.000000</td>\n",
       "      <td>14999.000000</td>\n",
       "      <td>14999.000000</td>\n",
       "      <td>14999.000000</td>\n",
       "      <td>14999.000000</td>\n",
       "      <td>14999.000000</td>\n",
       "      <td>14999.000000</td>\n",
       "    </tr>\n",
       "    <tr>\n",
       "      <th>mean</th>\n",
       "      <td>0.612834</td>\n",
       "      <td>0.716102</td>\n",
       "      <td>3.803054</td>\n",
       "      <td>201.050337</td>\n",
       "      <td>3.498233</td>\n",
       "      <td>0.144610</td>\n",
       "      <td>0.238083</td>\n",
       "      <td>0.021268</td>\n",
       "    </tr>\n",
       "    <tr>\n",
       "      <th>std</th>\n",
       "      <td>0.248631</td>\n",
       "      <td>0.171169</td>\n",
       "      <td>1.232592</td>\n",
       "      <td>49.943099</td>\n",
       "      <td>1.460136</td>\n",
       "      <td>0.351719</td>\n",
       "      <td>0.425924</td>\n",
       "      <td>0.144281</td>\n",
       "    </tr>\n",
       "    <tr>\n",
       "      <th>min</th>\n",
       "      <td>0.090000</td>\n",
       "      <td>0.360000</td>\n",
       "      <td>2.000000</td>\n",
       "      <td>96.000000</td>\n",
       "      <td>2.000000</td>\n",
       "      <td>0.000000</td>\n",
       "      <td>0.000000</td>\n",
       "      <td>0.000000</td>\n",
       "    </tr>\n",
       "    <tr>\n",
       "      <th>25%</th>\n",
       "      <td>0.440000</td>\n",
       "      <td>0.560000</td>\n",
       "      <td>3.000000</td>\n",
       "      <td>156.000000</td>\n",
       "      <td>3.000000</td>\n",
       "      <td>0.000000</td>\n",
       "      <td>0.000000</td>\n",
       "      <td>0.000000</td>\n",
       "    </tr>\n",
       "    <tr>\n",
       "      <th>50%</th>\n",
       "      <td>0.640000</td>\n",
       "      <td>0.720000</td>\n",
       "      <td>4.000000</td>\n",
       "      <td>200.000000</td>\n",
       "      <td>3.000000</td>\n",
       "      <td>0.000000</td>\n",
       "      <td>0.000000</td>\n",
       "      <td>0.000000</td>\n",
       "    </tr>\n",
       "    <tr>\n",
       "      <th>75%</th>\n",
       "      <td>0.820000</td>\n",
       "      <td>0.870000</td>\n",
       "      <td>5.000000</td>\n",
       "      <td>245.000000</td>\n",
       "      <td>4.000000</td>\n",
       "      <td>0.000000</td>\n",
       "      <td>0.000000</td>\n",
       "      <td>0.000000</td>\n",
       "    </tr>\n",
       "    <tr>\n",
       "      <th>max</th>\n",
       "      <td>1.000000</td>\n",
       "      <td>1.000000</td>\n",
       "      <td>7.000000</td>\n",
       "      <td>310.000000</td>\n",
       "      <td>10.000000</td>\n",
       "      <td>1.000000</td>\n",
       "      <td>1.000000</td>\n",
       "      <td>1.000000</td>\n",
       "    </tr>\n",
       "  </tbody>\n",
       "</table>\n",
       "</div>"
      ],
      "text/plain": [
       "       satisfaction_level  last_evaluation  number_project  \\\n",
       "count        14999.000000     14999.000000    14999.000000   \n",
       "mean             0.612834         0.716102        3.803054   \n",
       "std              0.248631         0.171169        1.232592   \n",
       "min              0.090000         0.360000        2.000000   \n",
       "25%              0.440000         0.560000        3.000000   \n",
       "50%              0.640000         0.720000        4.000000   \n",
       "75%              0.820000         0.870000        5.000000   \n",
       "max              1.000000         1.000000        7.000000   \n",
       "\n",
       "       average_montly_hours  time_spend_company  Work_accident          left  \\\n",
       "count          14999.000000        14999.000000   14999.000000  14999.000000   \n",
       "mean             201.050337            3.498233       0.144610      0.238083   \n",
       "std               49.943099            1.460136       0.351719      0.425924   \n",
       "min               96.000000            2.000000       0.000000      0.000000   \n",
       "25%              156.000000            3.000000       0.000000      0.000000   \n",
       "50%              200.000000            3.000000       0.000000      0.000000   \n",
       "75%              245.000000            4.000000       0.000000      0.000000   \n",
       "max              310.000000           10.000000       1.000000      1.000000   \n",
       "\n",
       "       promotion_last_5years  \n",
       "count           14999.000000  \n",
       "mean                0.021268  \n",
       "std                 0.144281  \n",
       "min                 0.000000  \n",
       "25%                 0.000000  \n",
       "50%                 0.000000  \n",
       "75%                 0.000000  \n",
       "max                 1.000000  "
      ]
     },
     "execution_count": 5,
     "metadata": {},
     "output_type": "execute_result"
    }
   ],
   "source": [
    "# Generating descriptive statistics for the dataframe\n",
    "df0.describe()"
   ]
  },
  {
   "cell_type": "markdown",
   "metadata": {
    "id": "QR7eFNU0FklJ"
   },
   "source": [
    "## Data Cleaning"
   ]
  },
  {
   "cell_type": "code",
   "execution_count": 6,
   "metadata": {
    "id": "kEn21u2bqrEI"
   },
   "outputs": [
    {
     "data": {
      "text/plain": [
       "Index(['satisfaction_level', 'last_evaluation', 'number_project',\n",
       "       'average_montly_hours', 'time_spend_company', 'Work_accident', 'left',\n",
       "       'promotion_last_5years', 'Department', 'salary'],\n",
       "      dtype='object')"
      ]
     },
     "execution_count": 6,
     "metadata": {},
     "output_type": "execute_result"
    }
   ],
   "source": [
    "# Displaying the column names of the dataframe\n",
    "df0.columns"
   ]
  },
  {
   "cell_type": "code",
   "execution_count": 7,
   "metadata": {},
   "outputs": [],
   "source": [
    "# Standardizing the column names to snake_case\n",
    "df0.columns = df0.columns.str.lower()"
   ]
  },
  {
   "cell_type": "code",
   "execution_count": 8,
   "metadata": {
    "id": "npUQA8jMFJQD"
   },
   "outputs": [
    {
     "data": {
      "text/plain": [
       "Index(['satisfaction_level', 'last_evaluation', 'number_of_projects',\n",
       "       'average_monthly_hours', 'years_at_company', 'work_accident', 'churned',\n",
       "       'promotion_last_5years', 'department', 'salary'],\n",
       "      dtype='object')"
      ]
     },
     "execution_count": 8,
     "metadata": {},
     "output_type": "execute_result"
    }
   ],
   "source": [
    "# Renaming columns for clarity and consistency\n",
    "df0.rename(columns = {\"average_montly_hours\": \"average_monthly_hours\"}, inplace = True)\n",
    "df0.rename(columns = {\"left\": \"churned\"}, inplace = True)\n",
    "df0.rename(columns = {\"time_spend_company\": \"years_at_company\"}, inplace = True)\n",
    "df0.rename(columns = {\"number_project\": \"number_of_projects\"}, inplace = True)\n",
    "\n",
    "# Display all column names after the update\n",
    "df0.columns"
   ]
  },
  {
   "cell_type": "code",
   "execution_count": 9,
   "metadata": {
    "id": "EN9MvN0GByVV"
   },
   "outputs": [
    {
     "data": {
      "text/plain": [
       "satisfaction_level       0\n",
       "last_evaluation          0\n",
       "number_of_projects       0\n",
       "average_monthly_hours    0\n",
       "years_at_company         0\n",
       "work_accident            0\n",
       "churned                  0\n",
       "promotion_last_5years    0\n",
       "department               0\n",
       "salary                   0\n",
       "dtype: int64"
      ]
     },
     "execution_count": 9,
     "metadata": {},
     "output_type": "execute_result"
    }
   ],
   "source": [
    "# Checking for missing values in each column\n",
    "df0.isnull().sum()"
   ]
  },
  {
   "cell_type": "code",
   "execution_count": 10,
   "metadata": {
    "id": "CFFLc5AOZ7-x"
   },
   "outputs": [
    {
     "data": {
      "text/plain": [
       "False    11991\n",
       "True      3008\n",
       "dtype: int64"
      ]
     },
     "execution_count": 10,
     "metadata": {},
     "output_type": "execute_result"
    }
   ],
   "source": [
    "# Checking for duplicate rows in the dataframe\n",
    "df0.duplicated().value_counts()"
   ]
  },
  {
   "cell_type": "code",
   "execution_count": 11,
   "metadata": {
    "id": "ZHGlDbKAcBLM"
   },
   "outputs": [
    {
     "data": {
      "text/html": [
       "<div>\n",
       "<style scoped>\n",
       "    .dataframe tbody tr th:only-of-type {\n",
       "        vertical-align: middle;\n",
       "    }\n",
       "\n",
       "    .dataframe tbody tr th {\n",
       "        vertical-align: top;\n",
       "    }\n",
       "\n",
       "    .dataframe thead th {\n",
       "        text-align: right;\n",
       "    }\n",
       "</style>\n",
       "<table border=\"1\" class=\"dataframe\">\n",
       "  <thead>\n",
       "    <tr style=\"text-align: right;\">\n",
       "      <th></th>\n",
       "      <th>satisfaction_level</th>\n",
       "      <th>last_evaluation</th>\n",
       "      <th>number_of_projects</th>\n",
       "      <th>average_monthly_hours</th>\n",
       "      <th>years_at_company</th>\n",
       "      <th>work_accident</th>\n",
       "      <th>churned</th>\n",
       "      <th>promotion_last_5years</th>\n",
       "      <th>department</th>\n",
       "      <th>salary</th>\n",
       "    </tr>\n",
       "  </thead>\n",
       "  <tbody>\n",
       "    <tr>\n",
       "      <th>396</th>\n",
       "      <td>0.46</td>\n",
       "      <td>0.57</td>\n",
       "      <td>2</td>\n",
       "      <td>139</td>\n",
       "      <td>3</td>\n",
       "      <td>0</td>\n",
       "      <td>1</td>\n",
       "      <td>0</td>\n",
       "      <td>sales</td>\n",
       "      <td>low</td>\n",
       "    </tr>\n",
       "    <tr>\n",
       "      <th>866</th>\n",
       "      <td>0.41</td>\n",
       "      <td>0.46</td>\n",
       "      <td>2</td>\n",
       "      <td>128</td>\n",
       "      <td>3</td>\n",
       "      <td>0</td>\n",
       "      <td>1</td>\n",
       "      <td>0</td>\n",
       "      <td>accounting</td>\n",
       "      <td>low</td>\n",
       "    </tr>\n",
       "    <tr>\n",
       "      <th>1317</th>\n",
       "      <td>0.37</td>\n",
       "      <td>0.51</td>\n",
       "      <td>2</td>\n",
       "      <td>127</td>\n",
       "      <td>3</td>\n",
       "      <td>0</td>\n",
       "      <td>1</td>\n",
       "      <td>0</td>\n",
       "      <td>sales</td>\n",
       "      <td>medium</td>\n",
       "    </tr>\n",
       "    <tr>\n",
       "      <th>1368</th>\n",
       "      <td>0.41</td>\n",
       "      <td>0.52</td>\n",
       "      <td>2</td>\n",
       "      <td>132</td>\n",
       "      <td>3</td>\n",
       "      <td>0</td>\n",
       "      <td>1</td>\n",
       "      <td>0</td>\n",
       "      <td>RandD</td>\n",
       "      <td>low</td>\n",
       "    </tr>\n",
       "    <tr>\n",
       "      <th>1461</th>\n",
       "      <td>0.42</td>\n",
       "      <td>0.53</td>\n",
       "      <td>2</td>\n",
       "      <td>142</td>\n",
       "      <td>3</td>\n",
       "      <td>0</td>\n",
       "      <td>1</td>\n",
       "      <td>0</td>\n",
       "      <td>sales</td>\n",
       "      <td>low</td>\n",
       "    </tr>\n",
       "  </tbody>\n",
       "</table>\n",
       "</div>"
      ],
      "text/plain": [
       "      satisfaction_level  last_evaluation  number_of_projects  \\\n",
       "396                 0.46             0.57                   2   \n",
       "866                 0.41             0.46                   2   \n",
       "1317                0.37             0.51                   2   \n",
       "1368                0.41             0.52                   2   \n",
       "1461                0.42             0.53                   2   \n",
       "\n",
       "      average_monthly_hours  years_at_company  work_accident  churned  \\\n",
       "396                     139                 3              0        1   \n",
       "866                     128                 3              0        1   \n",
       "1317                    127                 3              0        1   \n",
       "1368                    132                 3              0        1   \n",
       "1461                    142                 3              0        1   \n",
       "\n",
       "      promotion_last_5years  department  salary  \n",
       "396                       0       sales     low  \n",
       "866                       0  accounting     low  \n",
       "1317                      0       sales  medium  \n",
       "1368                      0       RandD     low  \n",
       "1461                      0       sales     low  "
      ]
     },
     "execution_count": 11,
     "metadata": {},
     "output_type": "execute_result"
    }
   ],
   "source": [
    "# Inspecting some rows containing duplicates\n",
    "df0[df0.duplicated()].head()"
   ]
  },
  {
   "cell_type": "code",
   "execution_count": 12,
   "metadata": {
    "id": "wCr34Rppdjay"
   },
   "outputs": [
    {
     "data": {
      "text/html": [
       "<div>\n",
       "<style scoped>\n",
       "    .dataframe tbody tr th:only-of-type {\n",
       "        vertical-align: middle;\n",
       "    }\n",
       "\n",
       "    .dataframe tbody tr th {\n",
       "        vertical-align: top;\n",
       "    }\n",
       "\n",
       "    .dataframe thead th {\n",
       "        text-align: right;\n",
       "    }\n",
       "</style>\n",
       "<table border=\"1\" class=\"dataframe\">\n",
       "  <thead>\n",
       "    <tr style=\"text-align: right;\">\n",
       "      <th></th>\n",
       "      <th>satisfaction_level</th>\n",
       "      <th>last_evaluation</th>\n",
       "      <th>number_of_projects</th>\n",
       "      <th>average_monthly_hours</th>\n",
       "      <th>years_at_company</th>\n",
       "      <th>work_accident</th>\n",
       "      <th>churned</th>\n",
       "      <th>promotion_last_5years</th>\n",
       "      <th>department</th>\n",
       "      <th>salary</th>\n",
       "    </tr>\n",
       "  </thead>\n",
       "  <tbody>\n",
       "    <tr>\n",
       "      <th>0</th>\n",
       "      <td>0.38</td>\n",
       "      <td>0.53</td>\n",
       "      <td>2</td>\n",
       "      <td>157</td>\n",
       "      <td>3</td>\n",
       "      <td>0</td>\n",
       "      <td>1</td>\n",
       "      <td>0</td>\n",
       "      <td>sales</td>\n",
       "      <td>low</td>\n",
       "    </tr>\n",
       "    <tr>\n",
       "      <th>1</th>\n",
       "      <td>0.80</td>\n",
       "      <td>0.86</td>\n",
       "      <td>5</td>\n",
       "      <td>262</td>\n",
       "      <td>6</td>\n",
       "      <td>0</td>\n",
       "      <td>1</td>\n",
       "      <td>0</td>\n",
       "      <td>sales</td>\n",
       "      <td>medium</td>\n",
       "    </tr>\n",
       "    <tr>\n",
       "      <th>2</th>\n",
       "      <td>0.11</td>\n",
       "      <td>0.88</td>\n",
       "      <td>7</td>\n",
       "      <td>272</td>\n",
       "      <td>4</td>\n",
       "      <td>0</td>\n",
       "      <td>1</td>\n",
       "      <td>0</td>\n",
       "      <td>sales</td>\n",
       "      <td>medium</td>\n",
       "    </tr>\n",
       "    <tr>\n",
       "      <th>3</th>\n",
       "      <td>0.72</td>\n",
       "      <td>0.87</td>\n",
       "      <td>5</td>\n",
       "      <td>223</td>\n",
       "      <td>5</td>\n",
       "      <td>0</td>\n",
       "      <td>1</td>\n",
       "      <td>0</td>\n",
       "      <td>sales</td>\n",
       "      <td>low</td>\n",
       "    </tr>\n",
       "    <tr>\n",
       "      <th>4</th>\n",
       "      <td>0.37</td>\n",
       "      <td>0.52</td>\n",
       "      <td>2</td>\n",
       "      <td>159</td>\n",
       "      <td>3</td>\n",
       "      <td>0</td>\n",
       "      <td>1</td>\n",
       "      <td>0</td>\n",
       "      <td>sales</td>\n",
       "      <td>low</td>\n",
       "    </tr>\n",
       "  </tbody>\n",
       "</table>\n",
       "</div>"
      ],
      "text/plain": [
       "   satisfaction_level  last_evaluation  number_of_projects  \\\n",
       "0                0.38             0.53                   2   \n",
       "1                0.80             0.86                   5   \n",
       "2                0.11             0.88                   7   \n",
       "3                0.72             0.87                   5   \n",
       "4                0.37             0.52                   2   \n",
       "\n",
       "   average_monthly_hours  years_at_company  work_accident  churned  \\\n",
       "0                    157                 3              0        1   \n",
       "1                    262                 6              0        1   \n",
       "2                    272                 4              0        1   \n",
       "3                    223                 5              0        1   \n",
       "4                    159                 3              0        1   \n",
       "\n",
       "   promotion_last_5years department  salary  \n",
       "0                      0      sales     low  \n",
       "1                      0      sales  medium  \n",
       "2                      0      sales  medium  \n",
       "3                      0      sales     low  \n",
       "4                      0      sales     low  "
      ]
     },
     "execution_count": 12,
     "metadata": {},
     "output_type": "execute_result"
    }
   ],
   "source": [
    "# Dropping duplicate rows and saving the resulting dataframe in a new variable\n",
    "df = df0.drop_duplicates()\n",
    "data = df.copy()\n",
    "\n",
    "# Displaying the first few rows of the new dataframe\n",
    "df.head()"
   ]
  },
  {
   "cell_type": "code",
   "execution_count": 13,
   "metadata": {},
   "outputs": [
    {
     "data": {
      "text/plain": [
       "sales          3239\n",
       "technical      2244\n",
       "support        1821\n",
       "IT              976\n",
       "RandD           694\n",
       "product_mng     686\n",
       "marketing       673\n",
       "accounting      621\n",
       "hr              601\n",
       "management      436\n",
       "Name: department, dtype: int64"
      ]
     },
     "execution_count": 13,
     "metadata": {},
     "output_type": "execute_result"
    }
   ],
   "source": [
    "# Counting the occurrences of each unique value in the \"department\" column\n",
    "df[\"department\"].value_counts()"
   ]
  },
  {
   "cell_type": "code",
   "execution_count": 14,
   "metadata": {
    "id": "pilaGYgh4LHM"
   },
   "outputs": [
    {
     "data": {
      "image/png": "[encoded data removed]",
      "text/plain": [
       "<Figure size 640x480 with 1 Axes>"
      ]
     },
     "metadata": {},
     "output_type": "display_data"
    }
   ],
   "source": [
    "# Creating a boxplot to visualize the distribution of 'tenure' and detect outliers\n",
    "plt.boxplot(df[\"years_at_company\"])\n",
    "# Adding title and axis labels for clarity\n",
    "plt.title(\"Tenure\")\n",
    "plt.xlabel(\"years_at_company\")\n",
    "plt.ylabel(\"Years\")\n",
    "# Removing x-axis ticks for better visualization of the boxplot\n",
    "plt.xticks([])\n",
    "# Displaying the boxplot\n",
    "plt.show()"
   ]
  },
  {
   "cell_type": "code",
   "execution_count": 15,
   "metadata": {},
   "outputs": [
    {
     "data": {
      "image/png": "[encoded data removed]",
      "text/plain": [
       "<Figure size 640x480 with 1 Axes>"
      ]
     },
     "metadata": {},
     "output_type": "display_data"
    }
   ],
   "source": [
    "# Creating a boxplot to visualize the distribution of the number of projects each employee has worked on\n",
    "plt.boxplot(df[\"number_of_projects\"])\n",
    "# Adding title and axis labels for clarity\n",
    "plt.title(\"Number of Projects Each employee Has Worked On\")\n",
    "plt.xlabel(\"number_of_projects\")\n",
    "# Removing x-axis ticks for better visualization of the boxplot\n",
    "plt.xticks([])\n",
    "# Displaying the boxplot\n",
    "plt.show()"
   ]
  },
  {
   "cell_type": "code",
   "execution_count": 16,
   "metadata": {},
   "outputs": [
    {
     "data": {
      "image/png": "[encoded data removed]",
      "text/plain": [
       "<Figure size 640x480 with 1 Axes>"
      ]
     },
     "metadata": {},
     "output_type": "display_data"
    }
   ],
   "source": [
    "# Creating a side-by-side boxplot to depict employee satisfaction and performance (last evaluation)\n",
    "fig, ax = plt.subplots()\n",
    "\n",
    "# Using plt.boxplot() to plot both 'satisfaction_level' and 'last_evaluation' on the same figure\n",
    "plt.boxplot([df[\"satisfaction_level\"], df[\"last_evaluation\"]], labels = [\"satisfaction_level\", \"last_evaluation\"])\n",
    "\n",
    "# Adding title and axis labels for clarity\n",
    "plt.title(\"Employee Satisfaction Level & Last Evaluation Side By Side\")\n",
    "plt.ylabel(\"Level (Percent)\")\n",
    "# Displaying the side-by-side boxplot\n",
    "plt.show()"
   ]
  },
  {
   "cell_type": "code",
   "execution_count": 17,
   "metadata": {},
   "outputs": [
    {
     "data": {
      "image/png": "[encoded data removed]",
      "text/plain": [
       "<Figure size 640x480 with 1 Axes>"
      ]
     },
     "metadata": {},
     "output_type": "display_data"
    }
   ],
   "source": [
    "# Creating a boxplot to show the distribution of average monthly hours worked by each employee\n",
    "plt.boxplot(df[\"average_monthly_hours\"])\n",
    "\n",
    "# Adding title and axis labels for clarity\n",
    "plt.title(\"Monthly Hours (AVG)\")\n",
    "plt.xlabel(\"average_monthly_hours\")\n",
    "plt.ylabel(\"hours\")\n",
    "\n",
    "# Removing x-axis ticks for better visualization of the boxplot\n",
    "plt.xticks([])\n",
    "\n",
    "# Displaying the boxplot\n",
    "plt.show()"
   ]
  },
  {
   "cell_type": "code",
   "execution_count": 18,
   "metadata": {
    "id": "ohctgiHyFykI"
   },
   "outputs": [],
   "source": [
    "def outlier_bounds(series):\n",
    "    \"\"\"\n",
    "    Calculates the upper and lower bounds beyond which values would be considered outliers.\n",
    "    \n",
    "    Args:\n",
    "        series: A Pandas Series with numerical values.\n",
    "    Returns:\n",
    "        A tuple (lower, upper) representing the lower and upper bounds.\n",
    "    \"\"\"\n",
    "    # Calculate the first and third quartiles\n",
    "    q1 = np.quantile(series, 0.25)\n",
    "    q3 = np.quantile(series, 0.75)\n",
    "    \n",
    "    # Calculate the interquartile range (IQR)\n",
    "    iqr = q3 - q1\n",
    "    \n",
    "    # Calculate the lower and upper bounds for outliers\n",
    "    lower_bound = q1 - (1.5 * iqr)\n",
    "    upper_bound = q3 + (1.5 * iqr)\n",
    "    \n",
    "    return lower_bound, upper_bound"
   ]
  },
  {
   "cell_type": "code",
   "execution_count": 19,
   "metadata": {},
   "outputs": [],
   "source": [
    "# Calculating the upper and lower bounds for outliers in the 'years_at_company' feature\n",
    "lower, upper = outlier_bounds(df[\"years_at_company\"])"
   ]
  },
  {
   "cell_type": "code",
   "execution_count": 20,
   "metadata": {},
   "outputs": [
    {
     "data": {
      "text/plain": [
       "824"
      ]
     },
     "execution_count": 20,
     "metadata": {},
     "output_type": "execute_result"
    }
   ],
   "source": [
    "# Counting the number of rows outside the upper and lower outlier bounds for 'years_at_company'\n",
    "outliers_mask = (df[\"years_at_company\"] >= upper) | (df[\"years_at_company\"] <= lower)\n",
    "df[\"years_at_company\"][outliers_mask].count()"
   ]
  },
  {
   "cell_type": "code",
   "execution_count": 21,
   "metadata": {},
   "outputs": [
    {
     "name": "stdout",
     "output_type": "stream",
     "text": [
      "16.60% of employees have left the company\n"
     ]
    }
   ],
   "source": [
    "# Getting the number of people who churned vs. stayed\n",
    "left_value_counts = df[\"churned\"].value_counts()\n",
    "\n",
    "# Calculating the percentage of employees who have left the company\n",
    "print(f'{left_value_counts[1]/len(df):.2%} of employees have left the company')"
   ]
  },
  {
   "cell_type": "code",
   "execution_count": 22,
   "metadata": {},
   "outputs": [],
   "source": [
    "# Calculating VIF for each explanatory variable\n",
    "df_cleaned = df[outliers_mask].copy()"
   ]
  },
  {
   "cell_type": "markdown",
   "metadata": {
    "id": "DmVMzXPSuYk1"
   },
   "source": [
    "## Feature Engineering"
   ]
  },
  {
   "cell_type": "code",
   "execution_count": 23,
   "metadata": {},
   "outputs": [],
   "source": [
    "# One-Hot Label encoding the 'salary' and 'department' features\n",
    "df_encoded = pd.get_dummies(df_cleaned, columns=[\"department\", \"salary\"], drop_first=True)\n",
    "\n",
    "# Extracting the explanatory variables (X_data) by excluding the target variable ('churned')\n",
    "X_data = df_encoded.drop(\"churned\", axis = 1)"
   ]
  },
  {
   "cell_type": "code",
   "execution_count": 24,
   "metadata": {},
   "outputs": [
    {
     "data": {
      "text/plain": [
       "Index(['satisfaction_level', 'last_evaluation', 'number_of_projects',\n",
       "       'average_monthly_hours', 'years_at_company', 'work_accident', 'churned',\n",
       "       'promotion_last_5years', 'department_RandD', 'department_accounting',\n",
       "       'department_hr', 'department_management', 'department_marketing',\n",
       "       'department_product_mng', 'department_sales', 'department_support',\n",
       "       'department_technical', 'salary_low', 'salary_medium'],\n",
       "      dtype='object')"
      ]
     },
     "execution_count": 24,
     "metadata": {},
     "output_type": "execute_result"
    }
   ],
   "source": [
    "# Displaying the columns of the encoded dataframe\n",
    "df_encoded.columns"
   ]
  },
  {
   "cell_type": "code",
   "execution_count": 25,
   "metadata": {},
   "outputs": [],
   "source": [
    "# Calculating VIF for each explanatory variable\n",
    "vif = pd.DataFrame()\n",
    "\n",
    "# Using variance_inflation_factor to calculate VIF for each variable\n",
    "vif['VIF'] = [variance_inflation_factor(X_data.values, i) for i in range(X_data.shape[1])]\n",
    "\n",
    "# Assigning variable names to the VIF dataframe\n",
    "vif['variable'] = X_data.columns "
   ]
  },
  {
   "cell_type": "code",
   "execution_count": 26,
   "metadata": {},
   "outputs": [
    {
     "data": {
      "text/html": [
       "<div>\n",
       "<style scoped>\n",
       "    .dataframe tbody tr th:only-of-type {\n",
       "        vertical-align: middle;\n",
       "    }\n",
       "\n",
       "    .dataframe tbody tr th {\n",
       "        vertical-align: top;\n",
       "    }\n",
       "\n",
       "    .dataframe thead th {\n",
       "        text-align: right;\n",
       "    }\n",
       "</style>\n",
       "<table border=\"1\" class=\"dataframe\">\n",
       "  <thead>\n",
       "    <tr style=\"text-align: right;\">\n",
       "      <th></th>\n",
       "      <th>VIF</th>\n",
       "      <th>variable</th>\n",
       "    </tr>\n",
       "  </thead>\n",
       "  <tbody>\n",
       "    <tr>\n",
       "      <th>4</th>\n",
       "      <td>19.137845</td>\n",
       "      <td>years_at_company</td>\n",
       "    </tr>\n",
       "    <tr>\n",
       "      <th>1</th>\n",
       "      <td>18.545559</td>\n",
       "      <td>last_evaluation</td>\n",
       "    </tr>\n",
       "    <tr>\n",
       "      <th>3</th>\n",
       "      <td>17.163032</td>\n",
       "      <td>average_monthly_hours</td>\n",
       "    </tr>\n",
       "    <tr>\n",
       "      <th>2</th>\n",
       "      <td>12.883870</td>\n",
       "      <td>number_of_projects</td>\n",
       "    </tr>\n",
       "    <tr>\n",
       "      <th>0</th>\n",
       "      <td>6.507957</td>\n",
       "      <td>satisfaction_level</td>\n",
       "    </tr>\n",
       "    <tr>\n",
       "      <th>17</th>\n",
       "      <td>5.364666</td>\n",
       "      <td>salary_medium</td>\n",
       "    </tr>\n",
       "    <tr>\n",
       "      <th>13</th>\n",
       "      <td>4.548971</td>\n",
       "      <td>department_sales</td>\n",
       "    </tr>\n",
       "    <tr>\n",
       "      <th>16</th>\n",
       "      <td>4.503485</td>\n",
       "      <td>salary_low</td>\n",
       "    </tr>\n",
       "    <tr>\n",
       "      <th>15</th>\n",
       "      <td>2.854962</td>\n",
       "      <td>department_technical</td>\n",
       "    </tr>\n",
       "    <tr>\n",
       "      <th>10</th>\n",
       "      <td>2.605076</td>\n",
       "      <td>department_management</td>\n",
       "    </tr>\n",
       "    <tr>\n",
       "      <th>14</th>\n",
       "      <td>2.479040</td>\n",
       "      <td>department_support</td>\n",
       "    </tr>\n",
       "    <tr>\n",
       "      <th>11</th>\n",
       "      <td>1.833332</td>\n",
       "      <td>department_marketing</td>\n",
       "    </tr>\n",
       "    <tr>\n",
       "      <th>12</th>\n",
       "      <td>1.662533</td>\n",
       "      <td>department_product_mng</td>\n",
       "    </tr>\n",
       "    <tr>\n",
       "      <th>7</th>\n",
       "      <td>1.635995</td>\n",
       "      <td>department_RandD</td>\n",
       "    </tr>\n",
       "    <tr>\n",
       "      <th>8</th>\n",
       "      <td>1.586469</td>\n",
       "      <td>department_accounting</td>\n",
       "    </tr>\n",
       "    <tr>\n",
       "      <th>9</th>\n",
       "      <td>1.455060</td>\n",
       "      <td>department_hr</td>\n",
       "    </tr>\n",
       "    <tr>\n",
       "      <th>5</th>\n",
       "      <td>1.258160</td>\n",
       "      <td>work_accident</td>\n",
       "    </tr>\n",
       "    <tr>\n",
       "      <th>6</th>\n",
       "      <td>1.193176</td>\n",
       "      <td>promotion_last_5years</td>\n",
       "    </tr>\n",
       "  </tbody>\n",
       "</table>\n",
       "</div>"
      ],
      "text/plain": [
       "          VIF                variable\n",
       "4   19.137845        years_at_company\n",
       "1   18.545559         last_evaluation\n",
       "3   17.163032   average_monthly_hours\n",
       "2   12.883870      number_of_projects\n",
       "0    6.507957      satisfaction_level\n",
       "17   5.364666           salary_medium\n",
       "13   4.548971        department_sales\n",
       "16   4.503485              salary_low\n",
       "15   2.854962    department_technical\n",
       "10   2.605076   department_management\n",
       "14   2.479040      department_support\n",
       "11   1.833332    department_marketing\n",
       "12   1.662533  department_product_mng\n",
       "7    1.635995        department_RandD\n",
       "8    1.586469   department_accounting\n",
       "9    1.455060           department_hr\n",
       "5    1.258160           work_accident\n",
       "6    1.193176   promotion_last_5years"
      ]
     },
     "execution_count": 26,
     "metadata": {},
     "output_type": "execute_result"
    }
   ],
   "source": [
    "# Checking for multicollinearity between the data's features\n",
    "vif.sort_values(\"VIF\", ascending = False)"
   ]
  },
  {
   "cell_type": "code",
   "execution_count": 27,
   "metadata": {},
   "outputs": [],
   "source": [
    "# Setting the VIF cutoff to determine the amount of multicollinearity allowed amoust the features\n",
    "vif_cutoff = 20  # Change cutoff to the desired number (e.g., 10, 5, etc.). A smaller number indicates less multicollinearity between features.\n",
    "\n",
    "# Filtering variables with VIF less than the cutoff\n",
    "vif_less_than_cutoff = vif[vif[\"VIF\"] < vif_cutoff]"
   ]
  },
  {
   "cell_type": "code",
   "execution_count": 28,
   "metadata": {},
   "outputs": [],
   "source": [
    "# Extracting feature columns with VIF less than cutoff\n",
    "feature_columns = list(vif_less_than_cutoff[\"variable\"].values)"
   ]
  },
  {
   "cell_type": "code",
   "execution_count": 29,
   "metadata": {
    "id": "UePZZyi_Okdz"
   },
   "outputs": [],
   "source": [
    "# Extracting features using the selected columns with VIF less than cutoff\n",
    "X = df_encoded.copy().drop([\"churned\"], axis=1).loc[outliers_mask, feature_columns]\n",
    "\n",
    "# Response Variable\n",
    "y = df_encoded.copy()[\"churned\"][outliers_mask]"
   ]
  },
  {
   "cell_type": "code",
   "execution_count": 30,
   "metadata": {},
   "outputs": [
    {
     "data": {
      "text/plain": [
       "satisfaction_level        float64\n",
       "last_evaluation           float64\n",
       "number_of_projects          int64\n",
       "average_monthly_hours       int64\n",
       "years_at_company            int64\n",
       "work_accident               int64\n",
       "promotion_last_5years       int64\n",
       "department_RandD            uint8\n",
       "department_accounting       uint8\n",
       "department_hr               uint8\n",
       "department_management       uint8\n",
       "department_marketing        uint8\n",
       "department_product_mng      uint8\n",
       "department_sales            uint8\n",
       "department_support          uint8\n",
       "department_technical        uint8\n",
       "salary_low                  uint8\n",
       "salary_medium               uint8\n",
       "dtype: object"
      ]
     },
     "execution_count": 30,
     "metadata": {},
     "output_type": "execute_result"
    }
   ],
   "source": [
    "# Displaying the data types of independent variables\n",
    "X.dtypes"
   ]
  },
  {
   "cell_type": "code",
   "execution_count": 31,
   "metadata": {},
   "outputs": [
    {
     "data": {
      "text/html": [
       "<div>\n",
       "<style scoped>\n",
       "    .dataframe tbody tr th:only-of-type {\n",
       "        vertical-align: middle;\n",
       "    }\n",
       "\n",
       "    .dataframe tbody tr th {\n",
       "        vertical-align: top;\n",
       "    }\n",
       "\n",
       "    .dataframe thead th {\n",
       "        text-align: right;\n",
       "    }\n",
       "</style>\n",
       "<table border=\"1\" class=\"dataframe\">\n",
       "  <thead>\n",
       "    <tr style=\"text-align: right;\">\n",
       "      <th></th>\n",
       "      <th>satisfaction_level</th>\n",
       "      <th>last_evaluation</th>\n",
       "      <th>number_of_projects</th>\n",
       "      <th>average_monthly_hours</th>\n",
       "      <th>years_at_company</th>\n",
       "      <th>work_accident</th>\n",
       "      <th>promotion_last_5years</th>\n",
       "      <th>department_RandD</th>\n",
       "      <th>department_accounting</th>\n",
       "      <th>department_hr</th>\n",
       "      <th>department_management</th>\n",
       "      <th>department_marketing</th>\n",
       "      <th>department_product_mng</th>\n",
       "      <th>department_sales</th>\n",
       "      <th>department_support</th>\n",
       "      <th>department_technical</th>\n",
       "      <th>salary_low</th>\n",
       "      <th>salary_medium</th>\n",
       "    </tr>\n",
       "  </thead>\n",
       "  <tbody>\n",
       "    <tr>\n",
       "      <th>1</th>\n",
       "      <td>0.80</td>\n",
       "      <td>0.86</td>\n",
       "      <td>5</td>\n",
       "      <td>262</td>\n",
       "      <td>6</td>\n",
       "      <td>0</td>\n",
       "      <td>0</td>\n",
       "      <td>0</td>\n",
       "      <td>0</td>\n",
       "      <td>0</td>\n",
       "      <td>0</td>\n",
       "      <td>0</td>\n",
       "      <td>0</td>\n",
       "      <td>1</td>\n",
       "      <td>0</td>\n",
       "      <td>0</td>\n",
       "      <td>0</td>\n",
       "      <td>1</td>\n",
       "    </tr>\n",
       "    <tr>\n",
       "      <th>17</th>\n",
       "      <td>0.78</td>\n",
       "      <td>0.99</td>\n",
       "      <td>4</td>\n",
       "      <td>255</td>\n",
       "      <td>6</td>\n",
       "      <td>0</td>\n",
       "      <td>0</td>\n",
       "      <td>0</td>\n",
       "      <td>0</td>\n",
       "      <td>0</td>\n",
       "      <td>0</td>\n",
       "      <td>0</td>\n",
       "      <td>0</td>\n",
       "      <td>1</td>\n",
       "      <td>0</td>\n",
       "      <td>0</td>\n",
       "      <td>1</td>\n",
       "      <td>0</td>\n",
       "    </tr>\n",
       "    <tr>\n",
       "      <th>34</th>\n",
       "      <td>0.84</td>\n",
       "      <td>0.87</td>\n",
       "      <td>4</td>\n",
       "      <td>246</td>\n",
       "      <td>6</td>\n",
       "      <td>0</td>\n",
       "      <td>0</td>\n",
       "      <td>0</td>\n",
       "      <td>0</td>\n",
       "      <td>1</td>\n",
       "      <td>0</td>\n",
       "      <td>0</td>\n",
       "      <td>0</td>\n",
       "      <td>0</td>\n",
       "      <td>0</td>\n",
       "      <td>0</td>\n",
       "      <td>1</td>\n",
       "      <td>0</td>\n",
       "    </tr>\n",
       "    <tr>\n",
       "      <th>47</th>\n",
       "      <td>0.57</td>\n",
       "      <td>0.70</td>\n",
       "      <td>3</td>\n",
       "      <td>273</td>\n",
       "      <td>6</td>\n",
       "      <td>0</td>\n",
       "      <td>0</td>\n",
       "      <td>0</td>\n",
       "      <td>0</td>\n",
       "      <td>0</td>\n",
       "      <td>0</td>\n",
       "      <td>0</td>\n",
       "      <td>0</td>\n",
       "      <td>0</td>\n",
       "      <td>1</td>\n",
       "      <td>0</td>\n",
       "      <td>1</td>\n",
       "      <td>0</td>\n",
       "    </tr>\n",
       "    <tr>\n",
       "      <th>67</th>\n",
       "      <td>0.90</td>\n",
       "      <td>0.98</td>\n",
       "      <td>4</td>\n",
       "      <td>264</td>\n",
       "      <td>6</td>\n",
       "      <td>0</td>\n",
       "      <td>0</td>\n",
       "      <td>0</td>\n",
       "      <td>0</td>\n",
       "      <td>0</td>\n",
       "      <td>0</td>\n",
       "      <td>0</td>\n",
       "      <td>1</td>\n",
       "      <td>0</td>\n",
       "      <td>0</td>\n",
       "      <td>0</td>\n",
       "      <td>0</td>\n",
       "      <td>1</td>\n",
       "    </tr>\n",
       "  </tbody>\n",
       "</table>\n",
       "</div>"
      ],
      "text/plain": [
       "    satisfaction_level  last_evaluation  number_of_projects  \\\n",
       "1                 0.80             0.86                   5   \n",
       "17                0.78             0.99                   4   \n",
       "34                0.84             0.87                   4   \n",
       "47                0.57             0.70                   3   \n",
       "67                0.90             0.98                   4   \n",
       "\n",
       "    average_monthly_hours  years_at_company  work_accident  \\\n",
       "1                     262                 6              0   \n",
       "17                    255                 6              0   \n",
       "34                    246                 6              0   \n",
       "47                    273                 6              0   \n",
       "67                    264                 6              0   \n",
       "\n",
       "    promotion_last_5years  department_RandD  department_accounting  \\\n",
       "1                       0                 0                      0   \n",
       "17                      0                 0                      0   \n",
       "34                      0                 0                      0   \n",
       "47                      0                 0                      0   \n",
       "67                      0                 0                      0   \n",
       "\n",
       "    department_hr  department_management  department_marketing  \\\n",
       "1               0                      0                     0   \n",
       "17              0                      0                     0   \n",
       "34              1                      0                     0   \n",
       "47              0                      0                     0   \n",
       "67              0                      0                     0   \n",
       "\n",
       "    department_product_mng  department_sales  department_support  \\\n",
       "1                        0                 1                   0   \n",
       "17                       0                 1                   0   \n",
       "34                       0                 0                   0   \n",
       "47                       0                 0                   1   \n",
       "67                       1                 0                   0   \n",
       "\n",
       "    department_technical  salary_low  salary_medium  \n",
       "1                      0           0              1  \n",
       "17                     0           1              0  \n",
       "34                     0           1              0  \n",
       "47                     0           1              0  \n",
       "67                     0           0              1  "
      ]
     },
     "execution_count": 31,
     "metadata": {},
     "output_type": "execute_result"
    }
   ],
   "source": [
    "# Displaying the first few rows of independent variables\n",
    "X.head()"
   ]
  },
  {
   "cell_type": "markdown",
   "metadata": {
    "id": "OrW2oXy4OfD1"
   },
   "source": [
    "## Modeling"
   ]
  },
  {
   "cell_type": "code",
   "execution_count": 32,
   "metadata": {},
   "outputs": [],
   "source": [
    "# Splitting data into training and test sets for modeling\n",
    "X_train, X_test, y_train, y_test = train_test_split(X, y , test_size= .2, stratify = y, random_state = 42)\n",
    "\n",
    "# Splitting data for validation\n",
    "X_train, X_val, y_train, y_val = train_test_split(X_train, y_train, test_size=0.25, random_state=42)"
   ]
  },
  {
   "cell_type": "markdown",
   "metadata": {},
   "source": [
    "### Model 1: Logistic Regression with Saga Solver and Elastic Net Penalty \n",
    "#### Gridsearch For Best l1 ratio"
   ]
  },
  {
   "cell_type": "code",
   "execution_count": 33,
   "metadata": {},
   "outputs": [],
   "source": [
    "# Logistic Regression\n",
    "l1_ratio_logreg = LogisticRegression(\n",
    "    random_state=42,            # Setting a random seed for reproducibility\n",
    "    solver='saga',              # Specifying the solver for logistic regression\n",
    "    max_iter=10000,              # Maximum number of iterations for convergence\n",
    "    l1_ratio=0.1,                # L1 ratio for elastic net regularization\n",
    "    class_weight='balanced',     # Balancing class weights to handle imbalanced data\n",
    "    penalty='elasticnet'         # Elastic net regularization combining L1 and L2 penalties\n",
    ")"
   ]
  },
  {
   "cell_type": "code",
   "execution_count": 34,
   "metadata": {},
   "outputs": [
    {
     "name": "stdout",
     "output_type": "stream",
     "text": [
      "CPU times: user 10.6 s, sys: 81.5 ms, total: 10.7 s\n",
      "Wall time: 9.84 s\n"
     ]
    }
   ],
   "source": [
    "%%time\n",
    "# Defining the parameter grid to search\n",
    "param_grid = {'l1_ratio': [0.1, 0.3, 0.5, 0.7, 0.9]}\n",
    "param_grid = {'l1_ratio': [0.01, 0.03, 0.05, 0.07, 0.09]} \n",
    "\n",
    "# Creating a GridSearchCV object\n",
    "l1_ratio_grid_search = GridSearchCV(\n",
    "    estimator=l1_ratio_logreg,   # Using the Logistic Regression pipeline as the estimator\n",
    "    param_grid=param_grid,       # Specifying the parameter grid to search\n",
    "    cv=5,                        # Number of cross-validation folds\n",
    "    scoring='recall'             # Using recall as the scoring metric for evaluation\n",
    ")\n",
    "\n",
    "# Fitting the model with different l1_ratio values\n",
    "l1_ratio_grid_search_model = l1_ratio_grid_search.fit(X_train, y_train)"
   ]
  },
  {
   "cell_type": "code",
   "execution_count": 35,
   "metadata": {},
   "outputs": [
    {
     "name": "stdout",
     "output_type": "stream",
     "text": [
      "Best l1_ratio: {'l1_ratio': 0.01}\n",
      "Best cross-validation score: 0.9384615384615385\n",
      "Test set accuracy with best parameters: 0.8545454545454545\n"
     ]
    }
   ],
   "source": [
    "# Printing the best parameters and corresponding score\n",
    "print(\"Best l1_ratio:\", l1_ratio_grid_search_model.best_params_)\n",
    "print(\"Best cross-validation score:\", l1_ratio_grid_search_model.best_score_)\n",
    "\n",
    "# Evaluating the model on the test set with the best parameters\n",
    "best_model = l1_ratio_grid_search_model.best_estimator_\n",
    "test_score = best_model.score(X_test, y_test)\n",
    "print(\"Test set accuracy with best parameters:\", test_score)"
   ]
  },
  {
   "cell_type": "code",
   "execution_count": 36,
   "metadata": {},
   "outputs": [],
   "source": [
    "# Making predictions on the test set using the best model obtained from grid search\n",
    "grid_search_y_pred = l1_ratio_grid_search_model.predict(X_test)"
   ]
  },
  {
   "cell_type": "code",
   "execution_count": 37,
   "metadata": {},
   "outputs": [
    {
     "data": {
      "text/html": [
       "<div>\n",
       "<style scoped>\n",
       "    .dataframe tbody tr th:only-of-type {\n",
       "        vertical-align: middle;\n",
       "    }\n",
       "\n",
       "    .dataframe tbody tr th {\n",
       "        vertical-align: top;\n",
       "    }\n",
       "\n",
       "    .dataframe thead th {\n",
       "        text-align: right;\n",
       "    }\n",
       "</style>\n",
       "<table border=\"1\" class=\"dataframe\">\n",
       "  <thead>\n",
       "    <tr style=\"text-align: right;\">\n",
       "      <th></th>\n",
       "      <th>0</th>\n",
       "      <th>1</th>\n",
       "      <th>accuracy</th>\n",
       "      <th>macro avg</th>\n",
       "      <th>weighted avg</th>\n",
       "    </tr>\n",
       "  </thead>\n",
       "  <tbody>\n",
       "    <tr>\n",
       "      <th>precision</th>\n",
       "      <td>0.991736</td>\n",
       "      <td>0.477273</td>\n",
       "      <td>0.854545</td>\n",
       "      <td>0.734504</td>\n",
       "      <td>0.923140</td>\n",
       "    </tr>\n",
       "    <tr>\n",
       "      <th>recall</th>\n",
       "      <td>0.839161</td>\n",
       "      <td>0.954545</td>\n",
       "      <td>0.854545</td>\n",
       "      <td>0.896853</td>\n",
       "      <td>0.854545</td>\n",
       "    </tr>\n",
       "    <tr>\n",
       "      <th>f1-score</th>\n",
       "      <td>0.909091</td>\n",
       "      <td>0.636364</td>\n",
       "      <td>0.854545</td>\n",
       "      <td>0.772727</td>\n",
       "      <td>0.872727</td>\n",
       "    </tr>\n",
       "    <tr>\n",
       "      <th>support</th>\n",
       "      <td>143.000000</td>\n",
       "      <td>22.000000</td>\n",
       "      <td>0.854545</td>\n",
       "      <td>165.000000</td>\n",
       "      <td>165.000000</td>\n",
       "    </tr>\n",
       "  </tbody>\n",
       "</table>\n",
       "</div>"
      ],
      "text/plain": [
       "                    0          1  accuracy   macro avg  weighted avg\n",
       "precision    0.991736   0.477273  0.854545    0.734504      0.923140\n",
       "recall       0.839161   0.954545  0.854545    0.896853      0.854545\n",
       "f1-score     0.909091   0.636364  0.854545    0.772727      0.872727\n",
       "support    143.000000  22.000000  0.854545  165.000000    165.000000"
      ]
     },
     "execution_count": 37,
     "metadata": {},
     "output_type": "execute_result"
    }
   ],
   "source": [
    "# Generating a classification report for model evaluation\n",
    "pd.DataFrame(classification_report(y_test, grid_search_y_pred, output_dict = True))"
   ]
  },
  {
   "cell_type": "markdown",
   "metadata": {},
   "source": [
    "### Model 2: Logistic Regression with L2 Penalty \n",
    "#### Grid Search For The Best Solver"
   ]
  },
  {
   "cell_type": "code",
   "execution_count": 38,
   "metadata": {},
   "outputs": [],
   "source": [
    "# Logistic Regression \n",
    "solver_logreg = LogisticRegression(\n",
    "    random_state=42,            # Setting a random seed for reproducibility\n",
    "    solver='saga',              # Specifying the solver for logistic regression\n",
    "    max_iter=10000,              # Maximum number of iterations for convergence\n",
    "    class_weight='balanced',     # Balancing class weights to handle imbalanced data\n",
    "    penalty='l2'                 # L2 penalty for regularization\n",
    ")"
   ]
  },
  {
   "cell_type": "code",
   "execution_count": 39,
   "metadata": {},
   "outputs": [
    {
     "name": "stdout",
     "output_type": "stream",
     "text": [
      "CPU times: user 2.92 s, sys: 12.8 ms, total: 2.93 s\n",
      "Wall time: 2.98 s\n"
     ]
    }
   ],
   "source": [
    "%%time\n",
    "# Define the parame# Defining the parameter grid to search\n",
    "param_grid = {'solver': [\"lbfgs\", \"liblinear\", \"newton-cg\", \"newton-cholesky\", \"sag\", \"saga\"]}\n",
    "\n",
    "# Create GridSearchCV object\n",
    "solver_grid_search = GridSearchCV(\n",
    "    estimator=solver_logreg,    # Using the Logistic Regression pipeline as the estimator\n",
    "    param_grid=param_grid,       # Specifying the parameter grid to search\n",
    "    cv=5,                        # Number of cross-validation folds\n",
    "    scoring='recall'             # Using recall as the scoring metric for evaluation\n",
    ")\n",
    "# Fitting the model with different solver values\n",
    "solver_grid_search_model = solver_grid_search.fit(X_train, y_train)"
   ]
  },
  {
   "cell_type": "code",
   "execution_count": 40,
   "metadata": {},
   "outputs": [
    {
     "name": "stdout",
     "output_type": "stream",
     "text": [
      "Best l1_ratio: {'solver': 'lbfgs'}\n",
      "Best cross-validation score: 0.9384615384615385\n",
      "Test set accuracy with best parameters: 0.9090909090909091\n"
     ]
    }
   ],
   "source": [
    "# Printing the best parameters and corresponding score\n",
    "print(\"Best l1_ratio:\", solver_grid_search_model.best_params_)\n",
    "print(\"Best cross-validation score:\", solver_grid_search_model.best_score_)\n",
    "\n",
    "# Evaluating the model on the test set with the best parameters\n",
    "best_model = solver_grid_search_model.best_estimator_\n",
    "test_score = best_model.score(X_test, y_test)\n",
    "print(\"Test set accuracy with best parameters:\", test_score)"
   ]
  },
  {
   "cell_type": "code",
   "execution_count": 41,
   "metadata": {},
   "outputs": [],
   "source": [
    "# Making predictions on the test set using the best model obtained from grid search\n",
    "grid_search_y_pred = solver_grid_search_model.predict(X_test)"
   ]
  },
  {
   "cell_type": "code",
   "execution_count": 42,
   "metadata": {},
   "outputs": [
    {
     "data": {
      "text/html": [
       "<div>\n",
       "<style scoped>\n",
       "    .dataframe tbody tr th:only-of-type {\n",
       "        vertical-align: middle;\n",
       "    }\n",
       "\n",
       "    .dataframe tbody tr th {\n",
       "        vertical-align: top;\n",
       "    }\n",
       "\n",
       "    .dataframe thead th {\n",
       "        text-align: right;\n",
       "    }\n",
       "</style>\n",
       "<table border=\"1\" class=\"dataframe\">\n",
       "  <thead>\n",
       "    <tr style=\"text-align: right;\">\n",
       "      <th></th>\n",
       "      <th>0</th>\n",
       "      <th>1</th>\n",
       "      <th>accuracy</th>\n",
       "      <th>macro avg</th>\n",
       "      <th>weighted avg</th>\n",
       "    </tr>\n",
       "  </thead>\n",
       "  <tbody>\n",
       "    <tr>\n",
       "      <th>precision</th>\n",
       "      <td>0.992308</td>\n",
       "      <td>0.600000</td>\n",
       "      <td>0.909091</td>\n",
       "      <td>0.796154</td>\n",
       "      <td>0.940000</td>\n",
       "    </tr>\n",
       "    <tr>\n",
       "      <th>recall</th>\n",
       "      <td>0.902098</td>\n",
       "      <td>0.954545</td>\n",
       "      <td>0.909091</td>\n",
       "      <td>0.928322</td>\n",
       "      <td>0.909091</td>\n",
       "    </tr>\n",
       "    <tr>\n",
       "      <th>f1-score</th>\n",
       "      <td>0.945055</td>\n",
       "      <td>0.736842</td>\n",
       "      <td>0.909091</td>\n",
       "      <td>0.840949</td>\n",
       "      <td>0.917293</td>\n",
       "    </tr>\n",
       "    <tr>\n",
       "      <th>support</th>\n",
       "      <td>143.000000</td>\n",
       "      <td>22.000000</td>\n",
       "      <td>0.909091</td>\n",
       "      <td>165.000000</td>\n",
       "      <td>165.000000</td>\n",
       "    </tr>\n",
       "  </tbody>\n",
       "</table>\n",
       "</div>"
      ],
      "text/plain": [
       "                    0          1  accuracy   macro avg  weighted avg\n",
       "precision    0.992308   0.600000  0.909091    0.796154      0.940000\n",
       "recall       0.902098   0.954545  0.909091    0.928322      0.909091\n",
       "f1-score     0.945055   0.736842  0.909091    0.840949      0.917293\n",
       "support    143.000000  22.000000  0.909091  165.000000    165.000000"
      ]
     },
     "execution_count": 42,
     "metadata": {},
     "output_type": "execute_result"
    }
   ],
   "source": [
    "# Generating a classification report for model evaluation\n",
    "pd.DataFrame(classification_report(y_test, grid_search_y_pred, output_dict = True))"
   ]
  },
  {
   "cell_type": "code",
   "execution_count": 43,
   "metadata": {},
   "outputs": [
    {
     "data": {
      "image/png": "[encoded data removed]",
      "text/plain": [
       "<Figure size 640x480 with 2 Axes>"
      ]
     },
     "metadata": {},
     "output_type": "display_data"
    }
   ],
   "source": [
    "# Generating a confusion matrix and displaying it\n",
    "cm = confusion_matrix(y_test, grid_search_y_pred)\n",
    "# Creating a ConfusionMatrixDisplay object\n",
    "disp = ConfusionMatrixDisplay(cm, display_labels = solver_grid_search_model.classes_)\n",
    "# Plotting the confusion matrix\n",
    "disp.plot()\n",
    "plt.show()"
   ]
  },
  {
   "cell_type": "code",
   "execution_count": 44,
   "metadata": {},
   "outputs": [
    {
     "data": {
      "image/png": "[encoded data removed]",
      "text/plain": [
       "<Figure size 800x600 with 1 Axes>"
      ]
     },
     "metadata": {},
     "output_type": "display_data"
    },
    {
     "name": "stdout",
     "output_type": "stream",
     "text": [
      "AUC-ROC score: 0.95\n"
     ]
    }
   ],
   "source": [
    "# Predicting probabilities for the positive class using the Logistic Regression model with L2 penalty\n",
    "l2_y_probs = solver_grid_search_model.predict_proba(X_test)[:, 1]\n",
    "\n",
    "# Calculating AUC-ROC score\n",
    "l2_roc_auc = roc_auc_score(y_test, l2_y_probs)\n",
    "\n",
    "# Calculating ROC curve\n",
    "fpr, tpr, thresholds = roc_curve(y_test, l2_y_probs)\n",
    "\n",
    "# Plotting ROC curve\n",
    "plt.figure(figsize=(8, 6))\n",
    "plt.plot(fpr, tpr, color='darkorange', lw=2, label=f'AUC = {l2_roc_auc:.2f}')\n",
    "plt.plot([0, 1], [0, 1], color='navy', lw=2, linestyle='--')\n",
    "plt.xlabel('False Positive Rate')\n",
    "plt.ylabel('True Positive Rate')\n",
    "plt.title('ROC Curve')\n",
    "plt.legend(loc='lower right')\n",
    "plt.show()\n",
    "\n",
    "# Displaying the AUC-ROC score\n",
    "print(f'AUC-ROC score: {l2_roc_auc:.2f}')"
   ]
  },
  {
   "cell_type": "markdown",
   "metadata": {},
   "source": [
    "### Model 3: Logistic Regression with Lbfgs Solver and L2 Penalty (Resampled)"
   ]
  },
  {
   "cell_type": "code",
   "execution_count": 45,
   "metadata": {},
   "outputs": [
    {
     "name": "stdout",
     "output_type": "stream",
     "text": [
      "Class distribution before oversampling:\n",
      "[428  66]\n",
      "Class distribution after oversampling:\n",
      "[428 428]\n",
      "Classification Report:\n"
     ]
    },
    {
     "data": {
      "text/html": [
       "<div>\n",
       "<style scoped>\n",
       "    .dataframe tbody tr th:only-of-type {\n",
       "        vertical-align: middle;\n",
       "    }\n",
       "\n",
       "    .dataframe tbody tr th {\n",
       "        vertical-align: top;\n",
       "    }\n",
       "\n",
       "    .dataframe thead th {\n",
       "        text-align: right;\n",
       "    }\n",
       "</style>\n",
       "<table border=\"1\" class=\"dataframe\">\n",
       "  <thead>\n",
       "    <tr style=\"text-align: right;\">\n",
       "      <th></th>\n",
       "      <th>0</th>\n",
       "      <th>1</th>\n",
       "      <th>accuracy</th>\n",
       "      <th>macro avg</th>\n",
       "      <th>weighted avg</th>\n",
       "    </tr>\n",
       "  </thead>\n",
       "  <tbody>\n",
       "    <tr>\n",
       "      <th>precision</th>\n",
       "      <td>0.992366</td>\n",
       "      <td>0.617647</td>\n",
       "      <td>0.915152</td>\n",
       "      <td>0.805007</td>\n",
       "      <td>0.942404</td>\n",
       "    </tr>\n",
       "    <tr>\n",
       "      <th>recall</th>\n",
       "      <td>0.909091</td>\n",
       "      <td>0.954545</td>\n",
       "      <td>0.915152</td>\n",
       "      <td>0.931818</td>\n",
       "      <td>0.915152</td>\n",
       "    </tr>\n",
       "    <tr>\n",
       "      <th>f1-score</th>\n",
       "      <td>0.948905</td>\n",
       "      <td>0.750000</td>\n",
       "      <td>0.915152</td>\n",
       "      <td>0.849453</td>\n",
       "      <td>0.922384</td>\n",
       "    </tr>\n",
       "    <tr>\n",
       "      <th>support</th>\n",
       "      <td>143.000000</td>\n",
       "      <td>22.000000</td>\n",
       "      <td>0.915152</td>\n",
       "      <td>165.000000</td>\n",
       "      <td>165.000000</td>\n",
       "    </tr>\n",
       "  </tbody>\n",
       "</table>\n",
       "</div>"
      ],
      "text/plain": [
       "                    0          1  accuracy   macro avg  weighted avg\n",
       "precision    0.992366   0.617647  0.915152    0.805007      0.942404\n",
       "recall       0.909091   0.954545  0.915152    0.931818      0.915152\n",
       "f1-score     0.948905   0.750000  0.915152    0.849453      0.922384\n",
       "support    143.000000  22.000000  0.915152  165.000000    165.000000"
      ]
     },
     "execution_count": 45,
     "metadata": {},
     "output_type": "execute_result"
    }
   ],
   "source": [
    "# Instantiating a Logistic Regression model with L2 penalty and balanced class weights\n",
    "l2_logreg_resampled = LogisticRegression(\n",
    "    random_state=42,            # Setting a random seed for reproducibility\n",
    "    max_iter=10000,              # Maximum number of iterations for convergence\n",
    "    solver='lbfgs',             # Specifying the solver for logistic regression\n",
    "    penalty='l2',                # L2 penalty for regularization\n",
    "    class_weight='balanced'      # Balancing class weights to handle imbalanced data\n",
    ")\n",
    "# Displaying class distribution before oversampling\n",
    "print(\"Class distribution before oversampling:\")\n",
    "print(np.bincount(y_train))\n",
    "\n",
    "# Oversampling the minority class using the resample function\n",
    "X_resampled, y_resampled = resample(\n",
    "    X_train.loc[y_train == 1],  # Selecting minority class samples\n",
    "    y_train[y_train == 1],       # Corresponding labels\n",
    "    replace=True,                # Allowing replacement to oversample\n",
    "    n_samples=X_train[y_train == 0].shape[0],  # Matching the number of majority class samples\n",
    "    random_state=42              # Setting a random seed for reproducibility\n",
    ")\n",
    "\n",
    "# Combining the oversampled minority class with the majority class\n",
    "X_resampled = pd.concat([X_train.loc[y_train == 0], pd.DataFrame(X_resampled, columns=X_train.columns)])\n",
    "y_resampled = pd.concat([y_train[y_train == 0], pd.Series(y_resampled)])\n",
    "\n",
    "\n",
    "# Displaying class distribution after oversampling\n",
    "print(\"Class distribution after oversampling:\")\n",
    "print(np.bincount(y_resampled))\n",
    "\n",
    "# Training the logistic regression model on the resampled data\n",
    "l2_model_resampled = l2_logreg_resampled.fit(X_resampled, y_resampled)\n",
    "\n",
    "# Making predictions on the test set\n",
    "l2_y_pred_resampled = l2_model_resampled.predict(X_test)\n",
    "\n",
    "# Displaying the classification report\n",
    "print(\"Classification Report:\")\n",
    "pd.DataFrame(classification_report(y_test, l2_y_pred_resampled, output_dict = True))"
   ]
  },
  {
   "cell_type": "code",
   "execution_count": 46,
   "metadata": {},
   "outputs": [
    {
     "data": {
      "image/png": "[encoded data removed]",
      "text/plain": [
       "<Figure size 640x480 with 2 Axes>"
      ]
     },
     "metadata": {},
     "output_type": "display_data"
    }
   ],
   "source": [
    "# Generating a confusion matrix for the resampled Logistic Regression model\n",
    "cm = confusion_matrix(y_test, l2_y_pred_resampled)\n",
    "# Creating a ConfusionMatrixDisplay object\n",
    "disp = ConfusionMatrixDisplay(cm, display_labels = l2_model_resampled.classes_)\n",
    "# Plotting the confusion matrix\n",
    "disp.plot()\n",
    "plt.show()"
   ]
  },
  {
   "cell_type": "code",
   "execution_count": 47,
   "metadata": {},
   "outputs": [
    {
     "data": {
      "image/png": "[encoded data removed]",
      "text/plain": [
       "<Figure size 800x600 with 1 Axes>"
      ]
     },
     "metadata": {},
     "output_type": "display_data"
    },
    {
     "name": "stdout",
     "output_type": "stream",
     "text": [
      "AUC-ROC score: 0.96\n"
     ]
    }
   ],
   "source": [
    "# Predicting probabilities for the positive class using the resampled Logistic Regression model\n",
    "l2_y_probs_RS = l2_model_resampled.predict_proba(X_test)[:, 1]\n",
    "\n",
    "# Calculating AUC-ROC score for the resampled model\n",
    "l2_roc_auc_RS = roc_auc_score(y_test, l2_y_probs_RS)\n",
    "\n",
    "# Calculating ROC curve for the resampled model\n",
    "fpr, tpr, thresholds = roc_curve(y_test, l2_y_probs_RS)\n",
    "\n",
    "# Plotting ROC curve for the resampled model\n",
    "plt.figure(figsize=(8, 6))\n",
    "plt.plot(fpr, tpr, color='darkorange', lw=2, label=f'AUC = {l2_roc_auc_RS:.2f}')\n",
    "plt.plot([0, 1], [0, 1], color='navy', lw=2, linestyle='--')\n",
    "plt.xlabel('False Positive Rate')\n",
    "plt.ylabel('True Positive Rate')\n",
    "plt.title('ROC Curve')\n",
    "plt.legend(loc='lower right')\n",
    "plt.show()\n",
    "\n",
    "# Displaying the AUC-ROC score for the resampled model\n",
    "print(f'AUC-ROC score: {l2_roc_auc_RS:.2f}')"
   ]
  },
  {
   "cell_type": "markdown",
   "metadata": {},
   "source": [
    "# Validation\n",
    "### Model 3: Logistic Regression with Lbfgs Solver and L2 Penalty (Resampled)"
   ]
  },
  {
   "cell_type": "code",
   "execution_count": 48,
   "metadata": {},
   "outputs": [
    {
     "name": "stdout",
     "output_type": "stream",
     "text": [
      "Classification Report:\n"
     ]
    },
    {
     "data": {
      "text/html": [
       "<div>\n",
       "<style scoped>\n",
       "    .dataframe tbody tr th:only-of-type {\n",
       "        vertical-align: middle;\n",
       "    }\n",
       "\n",
       "    .dataframe tbody tr th {\n",
       "        vertical-align: top;\n",
       "    }\n",
       "\n",
       "    .dataframe thead th {\n",
       "        text-align: right;\n",
       "    }\n",
       "</style>\n",
       "<table border=\"1\" class=\"dataframe\">\n",
       "  <thead>\n",
       "    <tr style=\"text-align: right;\">\n",
       "      <th></th>\n",
       "      <th>0</th>\n",
       "      <th>1</th>\n",
       "      <th>accuracy</th>\n",
       "      <th>macro avg</th>\n",
       "      <th>weighted avg</th>\n",
       "    </tr>\n",
       "  </thead>\n",
       "  <tbody>\n",
       "    <tr>\n",
       "      <th>precision</th>\n",
       "      <td>0.992248</td>\n",
       "      <td>0.555556</td>\n",
       "      <td>0.89697</td>\n",
       "      <td>0.773902</td>\n",
       "      <td>0.936669</td>\n",
       "    </tr>\n",
       "    <tr>\n",
       "      <th>recall</th>\n",
       "      <td>0.888889</td>\n",
       "      <td>0.952381</td>\n",
       "      <td>0.89697</td>\n",
       "      <td>0.920635</td>\n",
       "      <td>0.896970</td>\n",
       "    </tr>\n",
       "    <tr>\n",
       "      <th>f1-score</th>\n",
       "      <td>0.937729</td>\n",
       "      <td>0.701754</td>\n",
       "      <td>0.89697</td>\n",
       "      <td>0.819742</td>\n",
       "      <td>0.907696</td>\n",
       "    </tr>\n",
       "    <tr>\n",
       "      <th>support</th>\n",
       "      <td>144.000000</td>\n",
       "      <td>21.000000</td>\n",
       "      <td>0.89697</td>\n",
       "      <td>165.000000</td>\n",
       "      <td>165.000000</td>\n",
       "    </tr>\n",
       "  </tbody>\n",
       "</table>\n",
       "</div>"
      ],
      "text/plain": [
       "                    0          1  accuracy   macro avg  weighted avg\n",
       "precision    0.992248   0.555556   0.89697    0.773902      0.936669\n",
       "recall       0.888889   0.952381   0.89697    0.920635      0.896970\n",
       "f1-score     0.937729   0.701754   0.89697    0.819742      0.907696\n",
       "support    144.000000  21.000000   0.89697  165.000000    165.000000"
      ]
     },
     "execution_count": 48,
     "metadata": {},
     "output_type": "execute_result"
    }
   ],
   "source": [
    "# Making predictions on the validation set using the resampled Logistic Regression model\n",
    "y_pred_val = l2_model_resampled.predict(X_val)\n",
    "\n",
    "# Evaluating the model on the validation set and creating a classification report\n",
    "print(\"Classification Report:\")\n",
    "clf_report = classification_report(y_val, y_pred_val, output_dict = True, zero_division = 0)\n",
    "pd.DataFrame(clf_report)"
   ]
  },
  {
   "cell_type": "code",
   "execution_count": 49,
   "metadata": {},
   "outputs": [
    {
     "data": {
      "image/png": "[encoded data removed]",
      "text/plain": [
       "<Figure size 640x480 with 2 Axes>"
      ]
     },
     "metadata": {},
     "output_type": "display_data"
    }
   ],
   "source": [
    "# Generating a confusion matrix and displaying it for the resampled Logistic Regression model on the validation set\n",
    "cm = confusion_matrix(y_val, y_pred_val)\n",
    "# Creating a ConfusionMatrixDisplay object\n",
    "disp = ConfusionMatrixDisplay(cm, display_labels = l2_model_resampled.classes_)\n",
    "# Plotting the confusion matrix\n",
    "disp.plot()\n",
    "plt.show()"
   ]
  },
  {
   "cell_type": "code",
   "execution_count": 50,
   "metadata": {},
   "outputs": [
    {
     "data": {
      "image/png": "[encoded data removed]",
      "text/plain": [
       "<Figure size 800x600 with 1 Axes>"
      ]
     },
     "metadata": {},
     "output_type": "display_data"
    },
    {
     "name": "stdout",
     "output_type": "stream",
     "text": [
      "AUC-ROC score: 0.96\n"
     ]
    }
   ],
   "source": [
    "# Predicting probabilities for the positive class using the resampled Logistic Regression model on the validation set\n",
    "y_probs_val = l2_model_resampled.predict_proba(X_val)[:, 1]\n",
    "\n",
    "# Calculating AUC-ROC score for the resampled model on the validation set\n",
    "roc_auc_val = roc_auc_score(y_val, y_probs_val)\n",
    "\n",
    "# Calculating ROC curve for the resampled model on the validation set\n",
    "fpr, tpr, thresholds = roc_curve(y_val, y_probs_val)\n",
    "\n",
    "# Plotting ROC curve for the resampled model on the validation set\n",
    "plt.figure(figsize=(8, 6))\n",
    "plt.plot(fpr, tpr, color='darkorange', lw=2, label=f'AUC = {roc_auc_val:.2f}')\n",
    "plt.plot([0, 1], [0, 1], color='navy', lw=2, linestyle='--')\n",
    "plt.xlabel('False Positive Rate')\n",
    "plt.ylabel('True Positive Rate')\n",
    "plt.title('ROC Curve')\n",
    "plt.legend(loc='lower right')\n",
    "plt.show()\n",
    "\n",
    "# Displaying the AUC-ROC score for the resampled model on the validation set\n",
    "print(f'AUC-ROC score: {roc_auc_val:.2f}')"
   ]
  },
  {
   "cell_type": "code",
   "execution_count": 51,
   "metadata": {},
   "outputs": [],
   "source": [
    "# Setting the desired confidence leve\n",
    "confidence = 0.95\n",
    "\n",
    "# Calculating the Z-value corresponding to the confidence level\n",
    "z_value = stats.norm.ppf((1 + confidence) / 2.0)"
   ]
  },
  {
   "cell_type": "code",
   "execution_count": 52,
   "metadata": {},
   "outputs": [
    {
     "name": "stdout",
     "output_type": "stream",
     "text": [
      "Recall: 0.9524\n",
      "95% CI [0.92, 0.98]\n"
     ]
    }
   ],
   "source": [
    "# Calculating recall on the test set using the resampled Logistic Regression model\n",
    "recall_val = recall_score(y_val, l2_model_resampled.predict(X_val))  # Assuming you are using binary classification\n",
    "# Calculating the confidence interval length\n",
    "ci_length = z_value * np.sqrt((recall_val * (1 - recall_val)) / y_val.shape[0])\n",
    "\n",
    "# Calculating the lower and upper bounds of the confidence interval\n",
    "ci_lower, ci_upper = recall_val - ci_length, recall_val + ci_length\n",
    "\n",
    "# Displaying recall and confidence interval\n",
    "print(f\"Recall: {recall_val:.4f}\")\n",
    "print(f\"{confidence*100:.0f}% CI [{ci_lower:.2f}, {ci_upper:.2f}]\")"
   ]
  },
  {
   "cell_type": "code",
   "execution_count": 53,
   "metadata": {},
   "outputs": [
    {
     "name": "stdout",
     "output_type": "stream",
     "text": [
      "Accuracy: 0.8970\n",
      "95% CI [0.85, 0.94]\n"
     ]
    }
   ],
   "source": [
    "# Calculating accuracy on the test set using the resampled Logistic Regression model\n",
    "acc_val = l2_model_resampled.score(X_val, y_val)\n",
    "\n",
    "# Calculating the confidence interval length\n",
    "ci_length = z_value * np.sqrt((acc_val * (1 - acc_val)) / y_val.shape[0])\n",
    "\n",
    "# Calculating the lower and upper bounds of the confidence interval\n",
    "ci_lower, ci_upper = acc_val - ci_length, acc_val + ci_length\n",
    "\n",
    "# Displaying accuracy and confidence interval\n",
    "print(f\"Accuracy: {acc_val:.4f}\")\n",
    "print(f\"{confidence*100:.0f}% CI [{ci_lower:.2f}, {ci_upper:.2f}]\")"
   ]
  },
  {
   "cell_type": "code",
   "execution_count": 54,
   "metadata": {},
   "outputs": [
    {
     "name": "stdout",
     "output_type": "stream",
     "text": [
      "Precision: 0.5556\n",
      "95% CI [0.48, 0.63]\n"
     ]
    }
   ],
   "source": [
    "# Calculating precision on the test set using the resampled Logistic Regression model\n",
    "precision_val = precision_score(y_val, l2_model_resampled.predict(X_val))  # Assuming you are using binary classification\n",
    "\n",
    "# Calculating the confidence interval length\n",
    "ci_length = z_value * np.sqrt((precision_val * (1 - precision_val)) / y_val.shape[0])\n",
    "\n",
    "# Calculating the lower and upper bounds of the confidence interval\n",
    "ci_lower, ci_upper = precision_val - ci_length, precision_val + ci_length\n",
    "\n",
    "# Displaying precision and confidence interval\n",
    "print(f\"Precision: {precision_val:.4f}\")\n",
    "print(f\"{confidence*100:.0f}% CI [{ci_lower:.2f}, {ci_upper:.2f}]\")"
   ]
  },
  {
   "cell_type": "code",
   "execution_count": 55,
   "metadata": {},
   "outputs": [
    {
     "name": "stdout",
     "output_type": "stream",
     "text": [
      "F1-score: 0.7018\n",
      "95% CI [0.63, 0.77]\n"
     ]
    }
   ],
   "source": [
    "# Calculating F1-score on the test set using the resampled Logistic Regression model\n",
    "f1_score_val = f1_score(y_val, l2_model_resampled.predict(X_val)) # Assuming you are using binary classification\n",
    "\n",
    "# Calculating the confidence interval length\n",
    "ci_length = z_value * np.sqrt((f1_score_val * (1 - f1_score_val)) / y_val.shape[0])\n",
    "\n",
    "# Calculating the lower and upper bounds of the confidence interval\n",
    "ci_lower, ci_upper = f1_score_val - ci_length, f1_score_val + ci_length\n",
    "\n",
    "# Displaying F1-score and confidence interval\n",
    "print(f\"F1-score: {f1_score_val:.4f}\")\n",
    "print(f\"{confidence*100:.0f}% CI [{ci_lower:.2f}, {ci_upper:.2f}]\")"
   ]
  },
  {
   "cell_type": "code",
   "execution_count": 56,
   "metadata": {},
   "outputs": [
    {
     "name": "stdout",
     "output_type": "stream",
     "text": [
      "AUC-ROC Score: 0.9590\n",
      "95% CI [0.93, 0.99]\n"
     ]
    }
   ],
   "source": [
    "# Calculating AUC-ROC score on the test set using the resampled Logistic Regression model\n",
    "roc_auc_val = roc_auc_score(y_val, l2_model_resampled.predict_proba(X_val)[:, 1])  # Assuming you are using binary classification\n",
    "\n",
    "# Calculating the confidence interval length\n",
    "ci_length = z_value * np.sqrt((roc_auc_val * (1 - roc_auc_val)) / y_val.shape[0])\n",
    "\n",
    "# Calculating the lower and upper bounds of the confidence interval\n",
    "ci_lower, ci_upper = roc_auc_val - ci_length, roc_auc_val + ci_length\n",
    "\n",
    "# Displaying AUC-ROC score and confidence interval\n",
    "print(f\"AUC-ROC Score: {roc_auc_val:.4f}\")\n",
    "print(f\"{confidence*100:.0f}% CI [{ci_lower:.2f}, {ci_upper:.2f}]\")"
   ]
  },
  {
   "cell_type": "markdown",
   "metadata": {
    "id": "GXrsxT498Z7h"
   },
   "source": [
    "## Report\n"
   ]
  },
  {
   "cell_type": "markdown",
   "metadata": {},
   "source": [
    "**Model 1: Logistic Regression with Saga Solver and Elastic Net Penalty**\n",
    "I used GridSearchCV to determine the best L1 ratio based on recall scoring. I ran this model twice: first with a parameter grid ranging from 0.1 to 0.9 and then with a range of 0.01 to 0.09. The best model had an L1 penalty of 0.01, indicating that 99.99% of the penalty was L2 for optimal performance.\n",
    "\n",
    "**Model 2: Logistic Regression with L2 Penalty**\n",
    "Building on the results from the first model, I conducted another grid search using L2 as the sole penalty and searched for the best solver among \"lbfgs,\" \"liblinear,\" \"newton-cg,\" \"newton-cholesky,\" \"sag,\" and \"saga.\" The results showed that the solver resulting in the highest recall score was lbfgs. Then when comparing Model 2 and Model 1's classification reports, there were significant differences in precision, F1 score, and accuracy, while the recall score remained the same at 95%.\n",
    "\n",
    "**Model 3: Logistic Regression with Lbfgs Solver and L2 Penalty (Resampled)**\n",
    "For this model, I aimed to further enhance performance by resampling the data in addition to having balanced class weights to mitigate the negative effects of unequal class distribution on logistic regression. After evaluating the metrics for the third model, I selected it as my preferred model. It demonstrated superior performance on the test data compared to the previous models in —precision, F1 score, and accuracy—with a slight decrease in recall by 0.0001%.\n",
    "\n",
    "**Training Performance (Model 3 test results):**\n",
    "- Confusion Matrix:\n",
    "  - True Positive: 130\n",
    "  - False Positive: 13\n",
    "  - False Negative: 1\n",
    "  - True Negative: 21\n",
    "\n",
    "\n",
    "- Accuracy: 0.9152\n",
    "- Precision: 0.6176\n",
    "- Recall (Sensitivity or True Positive Rate): 0.9524\n",
    "- F1 Score: 0.7500\n",
    "- Area Under the ROC Curve (AUC-ROC): 0.9568\n",
    "\n",
    "**Validation Performance (Model 3 validation results):**\n",
    "- Confusion Matrix:\n",
    "  - True Positive: 128\n",
    "  - False Positive: 16\n",
    "  - False Negative: 1\n",
    "  - True Negative: 20\n",
    "\n",
    "\n",
    "\n",
    "- Accuracy: 0.8970\n",
    "> On the validation set, my model maintains a strong accuracy of 89.70%, demonstrating its reliability on new, unseen data.\n",
    "\n",
    "- Precision: 0.5556\n",
    "> The precision on the validation set is slightly lower at 55.56%, suggesting there might be a few false positives. This is an area where some improvement could be considered.\n",
    "\n",
    "- Recall (Sensitivity or True Positive Rate): 0.9524\n",
    "> Similar to the training set, the model captures 95.24% of actual churn cases in the validation set.\n",
    "\n",
    "- F1 Score: 0.7018\n",
    "> The F1 score on the validation set is 70.18%, indicating a good balance between precision and recall.\n",
    "\n",
    "- Area Under the ROC Curve (AUC-ROC): 0.9590\n",
    "> The AUC-ROC remains high at 95.90%, showcasing the model's consistent ability to discriminate between churn and non-churn instances."
   ]
  }
 ],
 "metadata": {
  "colab": {
   "provenance": []
  },
  "gpuClass": "standard",
  "kernelspec": {
   "display_name": "Python 3 (ipykernel)",
   "language": "python",
   "name": "python3"
  },
  "language_info": {
   "codemirror_mode": {
    "name": "ipython",
    "version": 3
   },
   "file_extension": ".py",
   "mimetype": "text/x-python",
   "name": "python",
   "nbconvert_exporter": "python",
   "pygments_lexer": "ipython3",
   "version": "3.11.4"
  }
 },
 "nbformat": 4,
 "nbformat_minor": 1
}
